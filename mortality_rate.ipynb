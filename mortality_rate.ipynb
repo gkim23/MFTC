{
 "cells": [
  {
   "cell_type": "code",
   "execution_count": null,
   "metadata": {},
   "outputs": [],
   "source": [
    "#Importing pandas and numpy\n",
    "import pandas as pd\n",
    "import numpy as np\n",
    "import matplotlib.pyplot as plt\n",
    "from sklearn.linear_model import LinearRegression\n",
    "import math"
   ]
  },
  {
   "cell_type": "code",
   "execution_count": null,
   "metadata": {},
   "outputs": [],
   "source": [
    "#Reading CSV file\n",
    "df = pd.read_csv('mortality_rate.csv')"
   ]
  },
  {
   "cell_type": "code",
   "execution_count": null,
   "metadata": {},
   "outputs": [],
   "source": [
    "#Groups Causes of Deaths based on mean deaths in descending order (question 10)\n",
    "df.groupby(['Cause of Death']).mean().sort_values('Deaths', ascending = False)"
   ]
  },
  {
   "cell_type": "code",
   "execution_count": null,
   "metadata": {},
   "outputs": [],
   "source": [
    "#Groups Causes of Deaths by total deaths in descending order (question 11)\n",
    "df.groupby(['Cause of Death']).sum().sort_values('Deaths', ascending = False)"
   ]
  },
  {
   "cell_type": "code",
   "execution_count": null,
   "metadata": {},
   "outputs": [],
   "source": [
    "#returns total deaths from 1999-2020\n",
    "total = 0\n",
    "for i in range(len(df.index)):\n",
    "    total += df.iloc[i,3]\n",
    "print(total)"
   ]
  },
  {
   "cell_type": "code",
   "execution_count": null,
   "metadata": {},
   "outputs": [],
   "source": [
    "#Creates new data frame of only 2015 data\n",
    "df_2015 = df.loc[(df['Year']==2015)]"
   ]
  },
  {
   "cell_type": "code",
   "execution_count": null,
   "metadata": {},
   "outputs": [],
   "source": [
    "#Groups Causes of Deaths in 2015 by total deaths in descending order (question 12)\n",
    "df_2015.groupby(['Cause of Death']).sum().sort_values('Deaths', ascending = False)"
   ]
  },
  {
   "cell_type": "code",
   "execution_count": null,
   "metadata": {},
   "outputs": [],
   "source": [
    "#Identify total deaths in 2015 (question 12)\n",
    "df.groupby(['Year']).sum().sort_values('Deaths', ascending = False)"
   ]
  },
  {
   "cell_type": "code",
   "execution_count": null,
   "metadata": {},
   "outputs": [],
   "source": [
    "#creates new data frame of only state of New York and Cause of Death of Chronic lower respiratory diseases (question 13)\n",
    "df_NY = df.loc[(df['State']=='New York') & (df['Cause of Death'] == 'Chronic lower respiratory diseases (J40-J47)')]"
   ]
  },
  {
   "cell_type": "code",
   "execution_count": null,
   "metadata": {},
   "outputs": [],
   "source": [
    "#Sorts the year by number of deaths (question 13)\n",
    "df_NY.sort_values('Deaths', ascending = False)"
   ]
  },
  {
   "cell_type": "code",
   "execution_count": null,
   "metadata": {},
   "outputs": [],
   "source": [
    "#returns total deaths New York and Chronic lower respiratory diseases (question 13)\n",
    "total = 0\n",
    "for i in range(22):\n",
    "    total += df_NY.iloc[i,3]\n",
    "print(total)"
   ]
  },
  {
   "cell_type": "code",
   "execution_count": null,
   "metadata": {},
   "outputs": [],
   "source": [
    "#Creates new data frame of 2019 and 2020 data (question 14)\n",
    "df_cancer = df.loc[(df['Year'] > 2018)]"
   ]
  },
  {
   "cell_type": "code",
   "execution_count": null,
   "metadata": {},
   "outputs": [],
   "source": [
    "#Sorts cause of death by total deaths in years 2019 and 2020 (question 14)\n",
    "df_cancer.groupby(['Cause of Death']).sum().sort_values('Deaths', ascending = False)"
   ]
  },
  {
   "cell_type": "code",
   "execution_count": null,
   "metadata": {},
   "outputs": [],
   "source": [
    "#returns total deaths in 2019-2020 (question 15)\n",
    "total = 0\n",
    "for i in range(2915):\n",
    "    total += df_cancer.iloc[i,3]\n",
    "print(total)"
   ]
  },
  {
   "cell_type": "code",
   "execution_count": null,
   "metadata": {},
   "outputs": [],
   "source": [
    "#bar graph for 6 common causes of death (question 16)\n",
    "df_2016 = df.loc[(df['Year']==2016)]\n",
    "df_2016 = df_2016.groupby(['Cause of Death']).sum().sort_values('Deaths', ascending = False)\n",
    "df_2016 = df_2016.head(6)\n",
    "df_2016 = df_2016.reset_index()\n",
    "df_2016"
   ]
  },
  {
   "cell_type": "code",
   "execution_count": null,
   "metadata": {},
   "outputs": [],
   "source": [
    "ax = df_2016.plot.bar(x='Cause of Death', y='Deaths', rot = 0)\n",
    "plt.xticks(fontsize=3)"
   ]
  },
  {
   "cell_type": "code",
   "execution_count": null,
   "metadata": {},
   "outputs": [],
   "source": [
    "#Creates data frame with total deaths of each year\n",
    "df_total = df.groupby(['Year']).sum()\n",
    "df_total = df_total.reset_index()"
   ]
  },
  {
   "cell_type": "code",
   "execution_count": null,
   "metadata": {},
   "outputs": [],
   "source": [
    "ax2 = df_total.plot.scatter(x = 'Year', y = 'Deaths', c = 'DarkBlue')"
   ]
  },
  {
   "cell_type": "code",
   "execution_count": null,
   "metadata": {},
   "outputs": [],
   "source": [
    "#Creates data frame for heart disease\n",
    "df_heart = df.loc[(df['Cause of Death']=='Diseases of heart (I00-I09,I11,I13,I20-I51)')]\n",
    "df_heart = df_heart.groupby(['Year']).sum()\n",
    "df_heart = df_heart.reset_index()\n",
    "df_heart"
   ]
  },
  {
   "cell_type": "code",
   "execution_count": null,
   "metadata": {},
   "outputs": [],
   "source": [
    "ax2 = df_heart.plot.scatter(x = 'Year', y = 'Deaths', c = 'DarkBlue')"
   ]
  },
  {
   "cell_type": "code",
   "execution_count": null,
   "metadata": {},
   "outputs": [],
   "source": [
    "#creates data frame for suicide\n",
    "df_suicide = df.loc[(df['Cause of Death']=='Intentional self-harm (suicide) (*U03,X60-X84,Y87.0)') & (df['Year']== 2015)]\n",
    "df_suicide = df_suicide.groupby(['State']).sum().sort_values('Deaths', ascending = False)\n",
    "df_suicide = df_suicide.reset_index()\n",
    "df_suicide"
   ]
  },
  {
   "cell_type": "code",
   "execution_count": null,
   "metadata": {},
   "outputs": [],
   "source": [
    "ax3 = df_suicide.plot.scatter(x = 'Year', y = 'Deaths', c = 'DarkBlue')"
   ]
  },
  {
   "cell_type": "code",
   "execution_count": null,
   "metadata": {},
   "outputs": [],
   "source": [
    "#creates data frame for accidents\n",
    "df_opiod = df.loc[(df['Cause of Death']=='Accidents (unintentional injuries) (V01-X59,Y85-Y86)')]\n",
    "df_opiod = df_opiod.groupby(['Year']).sum()\n",
    "df_opiod = df_opiod.reset_index()\n",
    "df_opiod"
   ]
  },
  {
   "cell_type": "code",
   "execution_count": null,
   "metadata": {},
   "outputs": [],
   "source": [
    "ax4 = df_opiod.plot.scatter(x = 'Year', y = 'Deaths', c = 'DarkBlue')"
   ]
  },
  {
   "cell_type": "code",
   "execution_count": null,
   "metadata": {},
   "outputs": [],
   "source": []
  }
 ],
 "metadata": {
  "kernelspec": {
   "display_name": "Python 3",
   "language": "python",
   "name": "python3"
  },
  "language_info": {
   "codemirror_mode": {
    "name": "ipython",
    "version": 3
   },
   "file_extension": ".py",
   "mimetype": "text/x-python",
   "name": "python",
   "nbconvert_exporter": "python",
   "pygments_lexer": "ipython3",
   "version": "3.8.5"
  }
 },
 "nbformat": 4,
 "nbformat_minor": 4
}
